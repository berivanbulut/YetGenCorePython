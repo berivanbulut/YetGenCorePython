{
 "cells": [
  {
   "attachments": {},
   "cell_type": "markdown",
   "metadata": {},
   "source": [
    "# Problem 1 "
   ]
  },
  {
   "cell_type": "code",
   "execution_count": 2,
   "metadata": {},
   "outputs": [
    {
     "name": "stdout",
     "output_type": "stream",
     "text": [
      "x\n",
      "[1 2 3 4 5 9]\n"
     ]
    }
   ],
   "source": [
    "# 1 - numpy kütüphanesini import edin\n",
    "import numpy as np\n",
    "# 2 - 5 elemanlı bir numpy array oluşturun\n",
    "array=np.array([3,2,1,4,5,9])\n",
    "print(\"x\")\n",
    "# 3 - Oluşturduğunuz arrayi küçükten büyüğe sıralayın.\n",
    "sıra=np.sort(array)\n",
    "print(sıra)"
   ]
  },
  {
   "attachments": {},
   "cell_type": "markdown",
   "metadata": {},
   "source": [
    "# Problem 2"
   ]
  },
  {
   "cell_type": "code",
   "execution_count": 9,
   "metadata": {},
   "outputs": [
    {
     "ename": "IndentationError",
     "evalue": "unexpected indent (3640347818.py, line 7)",
     "output_type": "error",
     "traceback": [
      "\u001b[1;36m  Cell \u001b[1;32mIn[9], line 7\u001b[1;36m\u001b[0m\n\u001b[1;33m    import numpy as np\u001b[0m\n\u001b[1;37m    ^\u001b[0m\n\u001b[1;31mIndentationError\u001b[0m\u001b[1;31m:\u001b[0m unexpected indent\n"
     ]
    }
   ],
   "source": [
    "\n",
    "# 1- (10,15,30,45,60) değerlerine sahip numpy dizisi oluşturunuz.\n",
    "import numpy as np\n",
    "a= np.array([10, 15, 30, 45, 60])\n",
    "print(a)\n",
    "\n",
    "# 2- (5-15) arasındaki sayılarla numpy dizisi oluşturunuz.\n",
    " import numpy as np\n",
    "b= np.arange(5, 16)\n",
    "print(b)\n",
    "# 3- (50-100) arasında 5'er 5'er artarak numpy dizisi oluşturunuz.\n",
    "import numpy as np\n",
    "\n",
    "c= np.arange(50, 101, 5)\n",
    "print(c)\n",
    "\n",
    "\n",
    "# 4- 10 elemanlı sıfırlardan oluşan bir dizi oluşturunuz.\n",
    "import numpy as np\n",
    "\n",
    "d= np.zeros(10)\n",
    "print(d)\n",
    "\n",
    "\n",
    "\n",
    "# 5- 10 elemanlı birlerden oluşan bir dizi oluşturunuz.\n",
    "import numpy as np\n",
    "\n",
    "e= np.ones(10)\n",
    "print(e)\n",
    "\n",
    "# 6- (0-100) arasında eşit aralıklı 5 sayı üretin.\n",
    "import numpy as np\n",
    "\n",
    "f= np.linspace(0, 100, 5)\n",
    "print(f)\n",
    "\n",
    "# 7- (10-30) arasında rastgele 5 tane tamsayı üretin.\n",
    "import numpy as np\n",
    "\n",
    "g= np.random.randint(10, 31, size=5)\n",
    "print(g)\n",
    "\n",
    "# 8- [-1 ile 1] arasında 10 adet sayı üretin.\n",
    "import numpy as np\n",
    "\n",
    "h= np.random.uniform(-1, 1, size=10)\n",
    "print(h)\n",
    "\n",
    "# 9- (3x5) boyutlarında (10-50) arasında rastgele bir matris oluşturunuz.\n",
    "import numpy as np\n",
    "\n",
    "i= np.random.randint(10, 51, size=(2, 5))\n",
    "print(i)\n",
    "\n",
    "# 10- Üretilen matrisin satır ve sütun sayıları toplamlarını hesaplayınız ?\n",
    "satir_toplamlari = np.sum(i, axis=1)\n",
    "sutun_toplamlari = np.sum(i, axis=0)\n",
    "print(\"Satır toplamları:\", satir_toplamlari)\n",
    "print(\"Sütun toplamları:\", sutun_toplamlari)\n",
    "\n",
    "# 11- Üretilen matrisin en büyük, en küçük ve ortalaması nedir ?\n",
    "en_buyuk= np.max(i)\n",
    "en_kucuk= np.min(i)\n",
    "ortalama= np.mean(i)\n",
    "print(\"En büyük değer:\", en_buyuk)\n",
    "print(\"En küçük değer:\", en_kucuk)\n",
    "print(\"Ortalama değer:\", ortalama)\n",
    "\n",
    "# 12- Üretilen matrisin en büyük değerinin indeksi kaçtır ?\n",
    "en_buyuk_i=np.argmax(i)\n",
    "print(\"En büyük değer indeksi:\",en_buyuk_i)\n",
    "\n",
    "# 13- (10-20) arasındaki sayıları içeren dizinin ilk 3 elemanını seçiniz.\n",
    "j= np.arange(10, 21)\n",
    "ilk_uc_eleman = j[:3]\n",
    "print(\"İlk üç eleman:\", ilk_uc_eleman)\n",
    "# 14- Üretilen dizinin elemanlarını tersten yazdırın.\n",
    "ters=np.flip(j)\n",
    "print(\"Tersten:\",ters)\n",
    "\n",
    "# 15- Üretilen matrisin ilk satırını seçiniz.\n",
    "ilk_satir=j[0]\n",
    "print(\"ilk satır\",ilk_satir)\n",
    "\n",
    "# 16- Üretilen matrisin 2.satır 3.sütundaki elemanı hangisidir ?\n",
    "eleman = i[1, 2]\n",
    "print(\"2. satır, 3. sütundaki eleman:\", eleman)\n",
    "\n",
    "# 17- Üretilen matrisin tüm satırlardaki ilk elemanı seçiniz.\n",
    "ilk_eleman=i[:, 0]\n",
    "print(\"ilk eleman\",ilk_eleman)\n",
    "\n",
    "# 18- Üretilen matrisin her bir elemanının karesini alınız.\n",
    "kare=np.square(i)\n",
    "\n",
    "\n",
    "\n",
    "# 19- Üretilen matris elemanlarının hangisi pozitif çift sayıdır ? Aralığı (-50,+50) arasında yapınız.\n",
    "cift=np.where((i > 0) & (i % 2 == 0), i, 0)"
   ]
  }
 ],
 "metadata": {
  "kernelspec": {
   "display_name": "Python 3",
   "language": "python",
   "name": "python3"
  },
  "language_info": {
   "codemirror_mode": {
    "name": "ipython",
    "version": 3
   },
   "file_extension": ".py",
   "mimetype": "text/x-python",
   "name": "python",
   "nbconvert_exporter": "python",
   "pygments_lexer": "ipython3",
   "version": "3.11.1"
  },
  "orig_nbformat": 4,
  "vscode": {
   "interpreter": {
    "hash": "5026d2d6e7aaaaba093def813beadff083d8733e4a511af01735cbabd156995d"
   }
  }
 },
 "nbformat": 4,
 "nbformat_minor": 2
}
