{
 "cells": [
  {
   "attachments": {},
   "cell_type": "markdown",
   "metadata": {},
   "source": [
    "# Problem 1\n",
    "\n",
    "Kumanda isminde bir sınıf oluşturarak aşağıdaki işlemleri yapmasını sağlayan fonksiyonları sınıf içerisinde yazalım.\n",
    "1. Tv Aç\n",
    "2. Tv Kapat\n",
    "3. Ses Ayarları\n",
    "4. Kanal Ekle\n",
    "5. Kanal Sayısını Öğrenme\n",
    "6. Rastgele Kanala Geçme\n",
    "7. Televizyon Bilgileri\n",
    "\n",
    "\n",
    "Kumandayı kapatmak için q tuşuna basılmalı ve diğer durumlarda hangi işlemi yapmak istediği sorulmalıdır. Her işlemde gerekli fonksiyonunun sınıf içerisinden çağırılması gerekmektedir.\n",
    "\n",
    "random ve time kütüphanesini araştırarak kullanabilirsiniz.\n",
    "\n",
    "Kendi istediğiniz özellikleri eklemekte serbetsiniz."
   ]
  },
  {
   "cell_type": "code",
   "execution_count": 2,
   "metadata": {},
   "outputs": [
    {
     "ename": "ValueError",
     "evalue": "not enough values to unpack (expected 2, got 1)",
     "output_type": "error",
     "traceback": [
      "\u001b[1;31m---------------------------------------------------------------------------\u001b[0m",
      "\u001b[1;31mValueError\u001b[0m                                Traceback (most recent call last)",
      "Cell \u001b[1;32mIn[2], line 57\u001b[0m\n\u001b[0;32m     52\u001b[0m     \u001b[39mdef\u001b[39;00m \u001b[39m__str__\u001b[39m(\u001b[39mself\u001b[39m):\n\u001b[0;32m     54\u001b[0m         \u001b[39mreturn\u001b[39;00m \u001b[39m\"\u001b[39m\u001b[39mTv Durumu\u001b[39m\u001b[39m{}\u001b[39;00m\u001b[39m\\n\u001b[39;00m\u001b[39m Tv Ses \u001b[39m\u001b[39m{}\u001b[39;00m\u001b[39m\\n\u001b[39;00m\u001b[39m Kanal Listesi \u001b[39m\u001b[39m{}\u001b[39;00m\u001b[39m\\n\u001b[39;00m\u001b[39m Şu anki Kanal: \u001b[39m\u001b[39m{}\u001b[39;00m\u001b[39m\\n\u001b[39;00m\u001b[39m\"\u001b[39m\u001b[39m.\u001b[39mformat(\u001b[39mself\u001b[39m\u001b[39m.\u001b[39mtv_durum,\u001b[39mself\u001b[39m\u001b[39m.\u001b[39mtv_ses,\u001b[39mself\u001b[39m\u001b[39m.\u001b[39mkanal_listesi,\u001b[39mself\u001b[39m\u001b[39m.\u001b[39mkanal)\n\u001b[1;32m---> 57\u001b[0m kumanda \u001b[39m=\u001b[39m Kumanda()\n",
      "Cell \u001b[1;32mIn[2], line 8\u001b[0m, in \u001b[0;36mKumanda.__init__\u001b[1;34m(self, tv_durum, tv_ses, kanal_listesi, kanal)\u001b[0m\n\u001b[0;32m      6\u001b[0m \u001b[39mself\u001b[39m\u001b[39m.\u001b[39mtv_durum\u001b[39m=\u001b[39m tv_durum\n\u001b[0;32m      7\u001b[0m \u001b[39mself\u001b[39m\u001b[39m.\u001b[39mtv_ses\u001b[39m=\u001b[39m tv_ses\n\u001b[1;32m----> 8\u001b[0m \u001b[39mself\u001b[39m,kanal_listesi\u001b[39m=\u001b[39mkanal_listesi\n\u001b[0;32m      9\u001b[0m \u001b[39mself\u001b[39m\u001b[39m.\u001b[39mkanal\u001b[39m=\u001b[39m kanal\n",
      "\u001b[1;31mValueError\u001b[0m: not enough values to unpack (expected 2, got 1)"
     ]
    }
   ],
   "source": [
    "import random\n",
    "import time\n",
    "\n",
    "class Kumanda():\n",
    "    def __init__(self, tv_durum= \"kapalı\",tv_ses=0, kanal_listesi=[\"Trt\"], kanal=\"Trt\"):\n",
    "        self.tv_durum= tv_durum\n",
    "        self.tv_ses= tv_ses\n",
    "        self,kanal_listesi=kanal_listesi\n",
    "        self.kanal= kanal # değer atamaları yapıldı\n",
    "\n",
    "\n",
    "    def tv_ac(self): # tv acma ayarları  oluşturma\n",
    "        if(self.tv_durum==\"Açık\"):\n",
    "            print(\"Televizyon şu an açık.\")\n",
    "        else:\n",
    "            print(\"Televizyon açılıyor. \")\n",
    "            self.tv_durum= \"Açık\"\n",
    "\n",
    "    def tv_kapat(self): #tv kapatma ayarları oluşturma\n",
    "        if (self.tv_durum==\"Kapalı\"):\n",
    "            print(\"Televizyon kapalı.\")\n",
    "        else:\n",
    "            print(\"Televizyon Kapatılıyor...\")\n",
    "            self.tv_durum= \"Kapalı\"\n",
    "\n",
    "    def ses_ayarları(self):# ses ayarlarını oluiturma ve düzenleme\n",
    "        while True:\n",
    "            cevap= input(\"Sesi Azalt: '<'\\n Sesi Arttır: '>'\\n Çıkış: çıkış\")    #ses ayarları için soru\n",
    "            if (cevap==\"<\"):\n",
    "                if(self.tv_ses!=0):\n",
    "                    self.tv_ses -=1\n",
    "                    print(\"Ses:\",self.tv_ses)\n",
    "            elif(cevap==\">\"):\n",
    "                if(self.tv_ses!=20):\n",
    "                    self.tv_ses+=1\n",
    "                    print(\"Ses:\",self.tv_ses)\n",
    "            else:\n",
    "                print(\"Ses seviyesi güncellendi:\",self.tv_ses)\n",
    "                break\n",
    "    def kanal_ekle(self,kanal_ismi):#Kanal listesine yeni kanal ekleme\n",
    "        print(\"Kanal ekleniyor...\")\n",
    "        time.sleep(1) # 1 saniye bekletme\n",
    "        self.kanal_listesi.append(kanal_ismi)\n",
    "        print(\"Kanal eklendi...\")\n",
    "    def rastgele_kanal(self):\n",
    "        rastgele=random.randint(0,len(self.kanal_listesi)-1)\n",
    "        self.kanal=self.kanal_listesi[rastgele]\n",
    "        print(\"Şu anki Kanal\",self.kanal)\n",
    "    def _len_(self):\n",
    "        return len(self.kanal_listesi)\n",
    "    \n",
    "    def __str__(self):\n",
    "\n",
    "        return \"Tv Durumu{}\\n Tv Ses {}\\n Kanal Listesi {}\\n Şu anki Kanal: {}\\n\".format(self.tv_durum,self.tv_ses,self.kanal_listesi,self.kanal)\n",
    "    \n",
    "\n",
    "kumanda = Kumanda()"
   ]
  }
 ],
 "metadata": {
  "kernelspec": {
   "display_name": "Python 3",
   "language": "python",
   "name": "python3"
  },
  "language_info": {
   "codemirror_mode": {
    "name": "ipython",
    "version": 3
   },
   "file_extension": ".py",
   "mimetype": "text/x-python",
   "name": "python",
   "nbconvert_exporter": "python",
   "pygments_lexer": "ipython3",
   "version": "3.11.1"
  },
  "orig_nbformat": 4,
  "vscode": {
   "interpreter": {
    "hash": "5026d2d6e7aaaaba093def813beadff083d8733e4a511af01735cbabd156995d"
   }
  }
 },
 "nbformat": 4,
 "nbformat_minor": 2
}
