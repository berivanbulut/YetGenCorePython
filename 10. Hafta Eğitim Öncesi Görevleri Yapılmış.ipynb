{
 "cells": [
  {
   "attachments": {},
   "cell_type": "markdown",
   "metadata": {},
   "source": [
    "# Problem 1"
   ]
  },
  {
   "cell_type": "code",
   "execution_count": 2,
   "metadata": {},
   "outputs": [],
   "source": [
    "# 1 - numpy kütüphanesini import edin\n",
    "import numpy as np\n",
    "# 2 - 0 ile 10 arasında 5 sayıdan oluşan matris üretin\n",
    "matris=np.random.randint(0,10,size=(5,))\n",
    "# 3 - matris'in boyutunu öğrenin\n",
    "boyut = matris.shape\n",
    "# 4 - matris'i yeniden boyutlandırın\n",
    "yeni=matris.reshape((5, 1))\n",
    "# 5 - matris'in boyut sayısını öğrenin\n",
    "bs=matris.ndim"
   ]
  },
  {
   "attachments": {},
   "cell_type": "markdown",
   "metadata": {},
   "source": [
    "# Problem 2"
   ]
  },
  {
   "cell_type": "code",
   "execution_count": 14,
   "metadata": {},
   "outputs": [
    {
     "name": "stdout",
     "output_type": "stream",
     "text": [
      "Oluşturulan matris:\n",
      "[1 3 5 7 9]\n",
      "Parçalanan matrisler:\n",
      "[1 3]\n",
      "[5 7 9]\n",
      "Birleştirilmiş matris:\n",
      "[1 3 5 7 9]\n"
     ]
    }
   ],
   "source": [
    "import numpy as np\n",
    "\n",
    "\n",
    "#1 - 0 ile 10 arasında bulunan tek sayılardan oluşan matris üretin\n",
    "matris = np.arange(1, 10, 2)\n",
    "# 2 - Oluşturduğunuz matrisi parçalayın\n",
    "parca1 = matris[:2]\n",
    "parca2 = matris[2:]\n",
    "# 3 - Parçalanmış matrisleri birleştirin\n",
    "birlesik_matris = np.concatenate([parca1, parca2])\n",
    "print(\"Oluşturulan matris:\")\n",
    "print(matris)\n",
    "\n",
    "print(\"Parçalanan matrisler:\")\n",
    "print(parca1)\n",
    "print(parca2)\n",
    "\n",
    "print(\"Birleştirilmiş matris:\")\n",
    "print(birlesik_matris)\n"
   ]
  },
  {
   "attachments": {},
   "cell_type": "markdown",
   "metadata": {},
   "source": [
    "# Problem 3"
   ]
  },
  {
   "cell_type": "code",
   "execution_count": 15,
   "metadata": {},
   "outputs": [],
   "source": [
    "import numpy as np\n",
    "# 1 - 5 ile 100 arasında ikişer ikişer atlayarak rastgele 10 sayıdan oluşan matris üretin\n",
    "m=np.random.choice(np.arange(5, 101, 2),size=(10,))\n",
    "# 2 - matris'in özelliklerini inceleyin\n",
    "boyut = matris.shape\n",
    "boyut_sayisi= matris.ndim\n",
    "eleman_sayisi= matris.size\n",
    "minimum_deger= matris.min()\n",
    "maksimum_deger= matris.max()\n",
    "ortalama_deger= matris.mean()"
   ]
  }
 ],
 "metadata": {
  "kernelspec": {
   "display_name": "Python 3",
   "language": "python",
   "name": "python3"
  },
  "language_info": {
   "codemirror_mode": {
    "name": "ipython",
    "version": 3
   },
   "file_extension": ".py",
   "mimetype": "text/x-python",
   "name": "python",
   "nbconvert_exporter": "python",
   "pygments_lexer": "ipython3",
   "version": "3.11.1"
  },
  "orig_nbformat": 4,
  "vscode": {
   "interpreter": {
    "hash": "5026d2d6e7aaaaba093def813beadff083d8733e4a511af01735cbabd156995d"
   }
  }
 },
 "nbformat": 4,
 "nbformat_minor": 2
}
